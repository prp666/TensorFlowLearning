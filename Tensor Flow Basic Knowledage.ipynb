{
 "cells": [
  {
   "cell_type": "markdown",
   "id": "b5f11ae7-1a96-4578-9813-aaa809524995",
   "metadata": {},
   "source": [
    "### This notebook is for learning how to use tensorflow.keras, all of knowledge in this notebook are from the \n",
    "\n",
    "[InsideTensorflow:tf.keras part1](https://www.youtube.com/watch?v=UYRBHFAvLSs)  and  [InsideTensorflow:tf.keras part2](https://www.youtube.com/watch?v=uhzGTijaw8A)\n",
    "\n",
    "also some knowledges are from TensorFlow Official guidence"
   ]
  },
  {
   "cell_type": "markdown",
   "id": "179c0958-0584-46a6-9599-19a3e71723b6",
   "metadata": {},
   "source": [
    "### First we learn some part of Tensors in TF"
   ]
  },
  {
   "cell_type": "code",
   "execution_count": 1,
   "id": "64f26c50-bd79-4518-ae21-c5ed699f77d0",
   "metadata": {},
   "outputs": [],
   "source": [
    "import tensorflow as tf\n",
    "import numpy as np"
   ]
  },
  {
   "cell_type": "markdown",
   "id": "dd816bf6-ab14-49fe-87ab-c705440b4a25",
   "metadata": {},
   "source": [
    "### TO create a tensor, we can use the function named `constant()` and `convert_to_tensor()`"
   ]
  },
  {
   "cell_type": "code",
   "execution_count": 2,
   "id": "ccf3959d-0ae9-49ff-852e-39aed72a0019",
   "metadata": {},
   "outputs": [
    {
     "name": "stdout",
     "output_type": "stream",
     "text": [
      "tf.Tensor(\n",
      "[[1. 2.]\n",
      " [3. 4.]\n",
      " [5. 6.]], shape=(3, 2), dtype=float16)\n"
     ]
    }
   ],
   "source": [
    "# If you want to be specific, you can set the dtype (see below) at creation time\n",
    "rank_2_tensor = tf.constant([[1, 2],\n",
    "                             [3, 4],\n",
    "                             [5, 6]], dtype=tf.float16)\n",
    "print(rank_2_tensor)"
   ]
  },
  {
   "cell_type": "code",
   "execution_count": 3,
   "id": "3f6b9a07-2b27-4fa1-98e9-c028d164931b",
   "metadata": {},
   "outputs": [
    {
     "name": "stdout",
     "output_type": "stream",
     "text": [
      "tf.Tensor(\n",
      "[[1. 2.]\n",
      " [3. 4.]\n",
      " [5. 6.]], shape=(3, 2), dtype=float16)\n"
     ]
    }
   ],
   "source": [
    "# Also can use convert to tensor method\n",
    "rank2_tensor2 = tf.convert_to_tensor(\n",
    "                             [[1, 2],\n",
    "                             [3, 4],\n",
    "                             [5, 6]], dtype=tf.float16)\n",
    "print(rank2_tensor2)"
   ]
  },
  {
   "cell_type": "markdown",
   "id": "c6db6d1d-28cd-4e40-a1e1-07653faa8ae2",
   "metadata": {},
   "source": [
    "Normally we use the convert_to_tensor() for the convert, the constant is for creating a immutable tensor."
   ]
  },
  {
   "cell_type": "markdown",
   "id": "651239f2-a59f-4e82-b2c8-c010e7aa2e94",
   "metadata": {},
   "source": [
    "Same as the pytorch and numpy, the tensorflow has shape of the tensor"
   ]
  },
  {
   "cell_type": "code",
   "execution_count": 4,
   "id": "27bbb387-a035-42a4-be34-e91bf30c9553",
   "metadata": {},
   "outputs": [
    {
     "data": {
      "text/plain": [
       "TensorShape([3, 2])"
      ]
     },
     "execution_count": 4,
     "metadata": {},
     "output_type": "execute_result"
    }
   ],
   "source": [
    "rank_2_tensor.shape"
   ]
  },
  {
   "cell_type": "code",
   "execution_count": 5,
   "id": "baf566c0-ed20-49d8-8fa4-c26118d49e29",
   "metadata": {},
   "outputs": [
    {
     "data": {
      "text/plain": [
       "TensorShape([3, 2])"
      ]
     },
     "execution_count": 5,
     "metadata": {},
     "output_type": "execute_result"
    }
   ],
   "source": [
    "rank2_tensor2.shape"
   ]
  },
  {
   "cell_type": "markdown",
   "id": "cbf17305-f125-4bb6-a481-66431c954134",
   "metadata": {},
   "source": [
    "For the shape of the tensors, it's same as the the pytorch one. So, for the rank_2_tensor, we can see it has 2 brackets, the outer is a list which has 3 inner parts, so the inner been divided into 3 parts, means one batch has 3 objects. Then we look at each inner list, all of them has 2 parameters, so the innersize is 2.\n",
    "\n",
    "Usually the tensor always has connection with the number of brackets, like `rank_2_tensor`, it has two pairs of the brackets, so it has two dimentions and the each dimention size decided by the number of units in this pair brackets. "
   ]
  },
  {
   "cell_type": "markdown",
   "id": "de5f5bca-a824-4ed9-85b5-33c0469ace6f",
   "metadata": {},
   "source": [
    "### Then we can convet the Tensors to numpy by `numpy.array()` or `Tensorflow.numpy()`\n",
    "\n",
    "`Tensorflow.numpy()` is the method for all Tensors type object"
   ]
  },
  {
   "cell_type": "code",
   "execution_count": 6,
   "id": "db2f7e09-ca60-499d-a83c-26b4ac789dd3",
   "metadata": {},
   "outputs": [
    {
     "data": {
      "text/plain": [
       "array([[1., 2.],\n",
       "       [3., 4.],\n",
       "       [5., 6.]], dtype=float16)"
      ]
     },
     "execution_count": 6,
     "metadata": {},
     "output_type": "execute_result"
    }
   ],
   "source": [
    "np_array = np.array(rank_2_tensor)\n",
    "np_array"
   ]
  },
  {
   "cell_type": "code",
   "execution_count": 7,
   "id": "1d735ea2-72a5-4f4d-9511-81fad03e434b",
   "metadata": {},
   "outputs": [
    {
     "data": {
      "text/plain": [
       "array([[1., 2.],\n",
       "       [3., 4.],\n",
       "       [5., 6.]], dtype=float16)"
      ]
     },
     "execution_count": 7,
     "metadata": {},
     "output_type": "execute_result"
    }
   ],
   "source": [
    "tensorflow_numpy = rank_2_tensor.numpy()\n",
    "tensorflow_numpy"
   ]
  },
  {
   "cell_type": "markdown",
   "id": "12ced4b4-d90f-4242-a97a-bea0d9b8001f",
   "metadata": {},
   "source": [
    "### Now we need to learn something about the size change of Tensor\n",
    "\n",
    "We can use `tensorflow.reshape()`, it's fast and lowcost, also it won't change the data in memory, so it's safe for converting data to the size which model layer can accept"
   ]
  },
  {
   "cell_type": "markdown",
   "id": "4a7b9839-e08e-4a8a-bb3f-361072c1fa5b",
   "metadata": {},
   "source": [
    "Note that every parameter `shape` in TensorFlow, `reshape(shape=())` ,`tf.keras.layers.Input(shape=())`, **should not cover batch size**, and the shape must be a **tuple or list**, batch size will be specified in training part"
   ]
  },
  {
   "cell_type": "code",
   "execution_count": 8,
   "id": "ae4a62f8-0954-40de-a445-a00790efeac4",
   "metadata": {},
   "outputs": [],
   "source": [
    "# let's add one dimension of this tensor\n",
    "# Noticed the shape is a list\n",
    "\n",
    "rank_3_tensor = tf.reshape(rank_2_tensor, (3, 2))"
   ]
  },
  {
   "cell_type": "code",
   "execution_count": 9,
   "id": "308112ae-6685-4552-8800-c3fd9745aa2c",
   "metadata": {},
   "outputs": [
    {
     "data": {
      "text/plain": [
       "<tf.Tensor: shape=(3, 2), dtype=float16, numpy=\n",
       "array([[1., 2.],\n",
       "       [3., 4.],\n",
       "       [5., 6.]], dtype=float16)>"
      ]
     },
     "execution_count": 9,
     "metadata": {},
     "output_type": "execute_result"
    }
   ],
   "source": [
    "rank_3_tensor"
   ]
  },
  {
   "cell_type": "markdown",
   "id": "ff1815bd-6f97-4bdc-b841-603eb9edb785",
   "metadata": {},
   "source": [
    "\n",
    "There is a function `tensorflow.tranpose()`, but we won't need this complex change of the tensor size now, we can learn it later"
   ]
  },
  {
   "cell_type": "markdown",
   "id": "eaac39f3-3915-4beb-895d-78cc429dd1b6",
   "metadata": {},
   "source": [
    "### Also the tensors have a parameter named dtype, we can use it for know the datatype of tensor, mostly the model use float32 or int8"
   ]
  },
  {
   "cell_type": "code",
   "execution_count": 10,
   "id": "0b1334a8-2c21-480f-a470-788158245c98",
   "metadata": {},
   "outputs": [
    {
     "data": {
      "text/plain": [
       "tf.float16"
      ]
     },
     "execution_count": 10,
     "metadata": {},
     "output_type": "execute_result"
    }
   ],
   "source": [
    "rank_2_tensor.dtype"
   ]
  },
  {
   "cell_type": "markdown",
   "id": "a2ef8bdf-253a-4832-9c8c-0a1289ea7436",
   "metadata": {},
   "source": [
    "We can use `tensorflow.cast()` for changing tensor dtype"
   ]
  },
  {
   "cell_type": "code",
   "execution_count": 11,
   "id": "d3f819b1-fbfb-4985-8e57-30fe3918217a",
   "metadata": {},
   "outputs": [],
   "source": [
    "rank_2_tensor_int8 = tf.cast(rank_2_tensor, dtype=tf.int8)"
   ]
  },
  {
   "cell_type": "code",
   "execution_count": 12,
   "id": "964ff45b-8b9c-47fb-9184-5b72d6454e4b",
   "metadata": {},
   "outputs": [
    {
     "data": {
      "text/plain": [
       "<tf.Tensor: shape=(3, 2), dtype=int8, numpy=\n",
       "array([[1, 2],\n",
       "       [3, 4],\n",
       "       [5, 6]], dtype=int8)>"
      ]
     },
     "execution_count": 12,
     "metadata": {},
     "output_type": "execute_result"
    }
   ],
   "source": [
    "rank_2_tensor_int8"
   ]
  },
  {
   "cell_type": "markdown",
   "id": "3067a710-8c9f-4a86-91f5-c0191e3219a0",
   "metadata": {},
   "source": [
    "We can use `Tensor.device` for getting the running device of model"
   ]
  },
  {
   "cell_type": "code",
   "execution_count": 13,
   "id": "e110d6b2-0917-4326-bc72-9b452aa82944",
   "metadata": {},
   "outputs": [
    {
     "data": {
      "text/plain": [
       "'/job:localhost/replica:0/task:0/device:CPU:0'"
      ]
     },
     "execution_count": 13,
     "metadata": {},
     "output_type": "execute_result"
    }
   ],
   "source": [
    "rank_2_tensor.device"
   ]
  },
  {
   "cell_type": "markdown",
   "id": "93ca6be4-8226-4bb5-aa10-9a3f8144f44b",
   "metadata": {},
   "source": [
    "### Another important thing is all Tensor has parameter named \"axis\", the axis usually used in `argmax()` or other methods which need specified the axis\n",
    "\n",
    "\n",
    "If we have a tensor, the shape of it is \"(32, 10)\", we need to know, the first dimension of the tensor usually batch_size, and the axis of it is 0. So if the 10 means we have 10 probabilities of the result, we want the largest one, we need to specify the axis is 1, in the picture below, there will be a picture shows the axis in tensor"
   ]
  },
  {
   "attachments": {
    "cf608f91-c9cb-4c97-b4b8-0c08818ed64c.png": {
     "image/png": "[encoded data removed]"
    }
   },
   "cell_type": "markdown",
   "id": "6a6df4d7-2a14-429a-8cb6-10369b24b92b",
   "metadata": {},
   "source": [
    "![image.png](attachment:cf608f91-c9cb-4c97-b4b8-0c08818ed64c.png)"
   ]
  },
  {
   "cell_type": "markdown",
   "id": "97c6b102-fa65-4bb2-a2a8-586b3f84f0d1",
   "metadata": {},
   "source": [
    "**So the first dimension is axis 0, the second is 1, the last is -1 or 3, we can use the axis as the index in list to select the dimension of a tensor**"
   ]
  },
  {
   "cell_type": "markdown",
   "id": "c21c193f-5853-4e68-aadd-f6ef3461763a",
   "metadata": {},
   "source": [
    "### To make some embeddings equipment running the machine learning, we might convert the python code to computing map, let embedding equipments can running machine learning, the computing map is data and parameters of the model, but here no need to go so deeply, we can pass it"
   ]
  },
  {
   "cell_type": "markdown",
   "id": "2c43a5ba-aa82-45cf-9308-6968d7aa6c2f",
   "metadata": {},
   "source": [
    "### Now time to learn the model of tensorflow, the tensorflow has the same kind of lower layer function to make us to define our own model\n",
    "\n",
    "The modle Class need to extends the `tf.Module` like pytorch we did `nn.Module`, the method `__init__` is for init everything of the modle, the `__call__` is like the `forward` in pytorch do forward propagation\n",
    "\n",
    "**Rememer that `tf.Moudle` not fit with tf.keras, we can use one of them at same time**"
   ]
  },
  {
   "cell_type": "code",
   "execution_count": 14,
   "id": "1f3821bb-e52d-4035-906a-8c61b7e1adf3",
   "metadata": {},
   "outputs": [
    {
     "data": {
      "text/plain": [
       "<tf.Tensor: shape=(), dtype=float32, numpy=30.0>"
      ]
     },
     "execution_count": 14,
     "metadata": {},
     "output_type": "execute_result"
    }
   ],
   "source": [
    "# This is a example to show the tf.Module, if we use keras for building the modle, no need to use that\n",
    "\n",
    "class SimpleModule(tf.Module):\n",
    "  def __init__(self, name=None):\n",
    "    super().__init__(name=name)\n",
    "    self.a_variable = tf.Variable(5.0, name=\"train_me\")\n",
    "    self.non_trainable_variable = tf.Variable(5.0, trainable=False, name=\"do_not_train_me\")\n",
    "  def __call__(self, x):\n",
    "    return self.a_variable * x + self.non_trainable_variable\n",
    "\n",
    "simple_module = SimpleModule(name=\"simple\")\n",
    "\n",
    "simple_module(tf.constant(5.0))"
   ]
  },
  {
   "cell_type": "markdown",
   "id": "cbd82bcd-0d9d-4672-8072-23040cbfffc3",
   "metadata": {},
   "source": [
    "### Now we need to use the keras to create the Moudle class of our first customize model(Traditional Method), it's most complex but detailed can do alot of customize inside"
   ]
  },
  {
   "cell_type": "markdown",
   "id": "23fcc0fc-4572-4e3c-8c31-6a7173e91731",
   "metadata": {},
   "source": [
    "#### The `tf.keras.layers.Layer` is for creating customize layer of model, which we might not use, so slip this one"
   ]
  },
  {
   "cell_type": "markdown",
   "id": "4f53f503-0415-4e46-bcfe-52e4b7aa4d41",
   "metadata": {},
   "source": [
    "#### The `tf.keras.Model` using for creating customize model, can use it adding the layer we have created or adding the layer created by keras"
   ]
  },
  {
   "cell_type": "markdown",
   "id": "51b7fad2-a55f-4a64-b34b-43183fbfc111",
   "metadata": {},
   "source": [
    "**We don't need to secify the model size while using class for creating model because TensorFlow will automatically detect the input size while it get inputs**"
   ]
  },
  {
   "cell_type": "code",
   "execution_count": 2,
   "id": "8d56ec01-0949-4fb7-8d47-6855c1f34c41",
   "metadata": {},
   "outputs": [],
   "source": [
    "from tensorflow.keras import layers "
   ]
  },
  {
   "cell_type": "markdown",
   "id": "20a7cea8-4361-4047-899f-9105c7c1cdf1",
   "metadata": {},
   "source": [
    "Please remind the `Dense()` has one required parameter `unit`, it means the output dimension(or number of output), usually `Dense()` is using for make prediction visable"
   ]
  },
  {
   "cell_type": "code",
   "execution_count": 4,
   "id": "3fe2ce13-a4b9-4ed4-bab0-6ae6953bf98e",
   "metadata": {},
   "outputs": [],
   "source": [
    "# Use the tf.keras.Model\n",
    "# Create a tf.keras model class\n",
    "\n",
    "class MyModel(tf.keras.Model):\n",
    "    def __init__(self, name=None, **kwargs):\n",
    "        super().__init__(**kwargs)\n",
    "\n",
    "        self.dense1 = layers.Dense(128, activation=\"relu\")\n",
    "        self.dropout = layers.Dropout(0.5)\n",
    "        self.dense2 = layers.Dense(10, activation=\"softmax\")\n",
    "\n",
    "    def call(self, x):\n",
    "        x = self.dense1(x)\n",
    "        x = self.dropout(x)\n",
    "        x = self.dense2(x)\n",
    "        return x"
   ]
  },
  {
   "cell_type": "markdown",
   "id": "f245e4b4-0b4d-4864-a913-698fbfdd1834",
   "metadata": {},
   "source": [
    "The model class I create just an example, but we can see we need two mandatory method `__init__()`, `call()`\n",
    "\n",
    "In the `__init__()`, we need first take all the parameters and(if we want) named the model, then feed all the parameters to `tf.Moudle` by `super()`, also if have name, the name should throw after super too. But why each layer use `self.<name> = layer` to create the objective ? Beacause **in each layer, the model need collect parameters and weight of the layer, need use specified object `self.<name>` than `<object>`, the TensorFlow can't find the object to store the data inside while training**\n",
    "\n",
    "In the call function is like forward in pytorch, we need every layer and has a input x, x for getting every layer's output, **when we create `MyModel` objective, the input of user will automatically as the input of `call()`, so we need to specify how the data trasfer between layers**"
   ]
  },
  {
   "cell_type": "markdown",
   "id": "21388cd0-4af8-4c20-a458-229589416dc1",
   "metadata": {},
   "source": [
    "### Then we need to use the model by define an object of the model class and put input to make a inference"
   ]
  },
  {
   "cell_type": "code",
   "execution_count": 6,
   "id": "5aa00b6b-f1a5-4317-85b2-7774857990c9",
   "metadata": {},
   "outputs": [],
   "source": [
    "#define the model object\n",
    "mymodel = MyModel()\n",
    "\n",
    "# predict\n",
    "mymodel(<input>)"
   ]
  },
  {
   "cell_type": "code",
   "execution_count": 20,
   "id": "b45b9555-5a2e-4bb4-bd82-3bdc9fbd14ed",
   "metadata": {},
   "outputs": [
    {
     "data": {
      "text/plain": [
       "[<Variable path=seed_generator/seed_generator_state, shape=(2,), dtype=int64, value=[290827258         0]>]"
      ]
     },
     "execution_count": 20,
     "metadata": {},
     "output_type": "execute_result"
    }
   ],
   "source": [
    "# See variables of the model\n",
    "\n",
    "mymodel.variables"
   ]
  },
  {
   "cell_type": "markdown",
   "id": "5c6c02c6-5044-48db-a43c-7935bbb67e0c",
   "metadata": {},
   "source": [
    "### Now we can use `Sequantial()` for model create, it's convinence but has limitted, it can only build the traditional model, like FNN, CNN, RNN "
   ]
  },
  {
   "cell_type": "code",
   "execution_count": 3,
   "id": "b87edc81-cc8a-45ea-aa9d-d20e74e68152",
   "metadata": {},
   "outputs": [],
   "source": [
    "from tensorflow.keras import models, layers"
   ]
  },
  {
   "cell_type": "markdown",
   "id": "7c27eeca-da11-44d6-83fc-469d2193d4b5",
   "metadata": {},
   "source": [
    "**UserWarning: Do not pass an `input_shape`/`input_dim` argument to a layer. When using Sequential models, prefer using an `Input(shape)` object as the first layer in the model instead.**"
   ]
  },
  {
   "cell_type": "markdown",
   "id": "eb1a5b2d-1023-4b35-900f-115f23c42939",
   "metadata": {},
   "source": [
    "Note while use Sequential or the functional API, we need specify the input shape by using the `layers.Input()`, the `shape` parameter must a tuple, even it's only 1 dimension \n",
    "\n",
    "`eg:(64, )`"
   ]
  },
  {
   "cell_type": "code",
   "execution_count": 22,
   "id": "43f85af7-5d46-4f86-8c23-0a72aab6ad88",
   "metadata": {},
   "outputs": [],
   "source": [
    "# Method 1, all the layer defination inside the models.Sequential\n",
    "\n",
    "sequential_model_1 = models.Sequential([\n",
    "    layers.Input(shape=(64,)),\n",
    "    layers.Dense(10, activation=\"softmax\")\n",
    "])"
   ]
  },
  {
   "cell_type": "code",
   "execution_count": 23,
   "id": "fe777525-55d6-48ee-afa7-2a89feb5ad4f",
   "metadata": {},
   "outputs": [],
   "source": [
    "# Method 2, all the layer added handly\n",
    "\n",
    "sequential_model_2 = models.Sequential()\n",
    "sequential_model_2.add(layers.Input(shape=(64,)))\n",
    "sequential_model_2.add(layers.Dense(10, activation=\"softmax\"))"
   ]
  },
  {
   "cell_type": "markdown",
   "id": "d644cdde-0cd3-41c0-91da-d613c7319685",
   "metadata": {},
   "source": [
    "### We also have another method to create model, Functional API. This method taking balance in simply and customize"
   ]
  },
  {
   "cell_type": "markdown",
   "id": "3e33d2a3-da1e-4773-bf1d-db7050a1c071",
   "metadata": {},
   "source": [
    "Functional API using the theority \"every thing is object in python\", so it's more easy to implement than `tensorflow.keras.Model`, but can has more customize than `tensorflow.keras.models.Squential()`, which means we can add different braches of the model"
   ]
  },
  {
   "cell_type": "code",
   "execution_count": 24,
   "id": "337409ae-e139-403a-8421-d6515ea3dc73",
   "metadata": {},
   "outputs": [],
   "source": [
    "# Functional API to creat model \n",
    "\n",
    "inputs = tf.keras.layers.Input(shape=(64,))\n",
    "\n",
    "x = tf.keras.layers.Dense(30, activation=\"relu\")(inputs)\n",
    "outputs = tf.keras.layers.Dense(10, activation=\"softmax\")(x)\n",
    "\n",
    "functional_model = tf.keras.Model(inputs=inputs, outputs=outputs) "
   ]
  },
  {
   "cell_type": "markdown",
   "id": "fb048693-50ec-4952-8753-e55d0a2e224b",
   "metadata": {},
   "source": [
    "All the model created by tf.keras can use method `summary()` to see the model information"
   ]
  },
  {
   "cell_type": "code",
   "execution_count": 25,
   "id": "901d7668-ee51-43d5-bb61-de6841335aba",
   "metadata": {},
   "outputs": [
    {
     "data": {
      "text/html": [
       "<pre style=\"white-space:pre;overflow-x:auto;line-height:normal;font-family:Menlo,'DejaVu Sans Mono',consolas,'Courier New',monospace\"><span style=\"font-weight: bold\">Model: \"sequential\"</span>\n",
       "</pre>\n"
      ],
      "text/plain": [
       "\u001b[1mModel: \"sequential\"\u001b[0m\n"
      ]
     },
     "metadata": {},
     "output_type": "display_data"
    },
    {
     "data": {
      "text/html": [
       "<pre style=\"white-space:pre;overflow-x:auto;line-height:normal;font-family:Menlo,'DejaVu Sans Mono',consolas,'Courier New',monospace\">┏━━━━━━━━━━━━━━━━━━━━━━━━━━━━━━━━━┳━━━━━━━━━━━━━━━━━━━━━━━━┳━━━━━━━━━━━━━━━┓\n",
       "┃<span style=\"font-weight: bold\"> Layer (type)                    </span>┃<span style=\"font-weight: bold\"> Output Shape           </span>┃<span style=\"font-weight: bold\">       Param # </span>┃\n",
       "┡━━━━━━━━━━━━━━━━━━━━━━━━━━━━━━━━━╇━━━━━━━━━━━━━━━━━━━━━━━━╇━━━━━━━━━━━━━━━┩\n",
       "│ dense_2 (<span style=\"color: #0087ff; text-decoration-color: #0087ff\">Dense</span>)                 │ (<span style=\"color: #00d7ff; text-decoration-color: #00d7ff\">None</span>, <span style=\"color: #00af00; text-decoration-color: #00af00\">10</span>)             │           <span style=\"color: #00af00; text-decoration-color: #00af00\">650</span> │\n",
       "└─────────────────────────────────┴────────────────────────┴───────────────┘\n",
       "</pre>\n"
      ],
      "text/plain": [
       "┏━━━━━━━━━━━━━━━━━━━━━━━━━━━━━━━━━┳━━━━━━━━━━━━━━━━━━━━━━━━┳━━━━━━━━━━━━━━━┓\n",
       "┃\u001b[1m \u001b[0m\u001b[1mLayer (type)                   \u001b[0m\u001b[1m \u001b[0m┃\u001b[1m \u001b[0m\u001b[1mOutput Shape          \u001b[0m\u001b[1m \u001b[0m┃\u001b[1m \u001b[0m\u001b[1m      Param #\u001b[0m\u001b[1m \u001b[0m┃\n",
       "┡━━━━━━━━━━━━━━━━━━━━━━━━━━━━━━━━━╇━━━━━━━━━━━━━━━━━━━━━━━━╇━━━━━━━━━━━━━━━┩\n",
       "│ dense_2 (\u001b[38;5;33mDense\u001b[0m)                 │ (\u001b[38;5;45mNone\u001b[0m, \u001b[38;5;34m10\u001b[0m)             │           \u001b[38;5;34m650\u001b[0m │\n",
       "└─────────────────────────────────┴────────────────────────┴───────────────┘\n"
      ]
     },
     "metadata": {},
     "output_type": "display_data"
    },
    {
     "data": {
      "text/html": [
       "<pre style=\"white-space:pre;overflow-x:auto;line-height:normal;font-family:Menlo,'DejaVu Sans Mono',consolas,'Courier New',monospace\"><span style=\"font-weight: bold\"> Total params: </span><span style=\"color: #00af00; text-decoration-color: #00af00\">650</span> (2.54 KB)\n",
       "</pre>\n"
      ],
      "text/plain": [
       "\u001b[1m Total params: \u001b[0m\u001b[38;5;34m650\u001b[0m (2.54 KB)\n"
      ]
     },
     "metadata": {},
     "output_type": "display_data"
    },
    {
     "data": {
      "text/html": [
       "<pre style=\"white-space:pre;overflow-x:auto;line-height:normal;font-family:Menlo,'DejaVu Sans Mono',consolas,'Courier New',monospace\"><span style=\"font-weight: bold\"> Trainable params: </span><span style=\"color: #00af00; text-decoration-color: #00af00\">650</span> (2.54 KB)\n",
       "</pre>\n"
      ],
      "text/plain": [
       "\u001b[1m Trainable params: \u001b[0m\u001b[38;5;34m650\u001b[0m (2.54 KB)\n"
      ]
     },
     "metadata": {},
     "output_type": "display_data"
    },
    {
     "data": {
      "text/html": [
       "<pre style=\"white-space:pre;overflow-x:auto;line-height:normal;font-family:Menlo,'DejaVu Sans Mono',consolas,'Courier New',monospace\"><span style=\"font-weight: bold\"> Non-trainable params: </span><span style=\"color: #00af00; text-decoration-color: #00af00\">0</span> (0.00 B)\n",
       "</pre>\n"
      ],
      "text/plain": [
       "\u001b[1m Non-trainable params: \u001b[0m\u001b[38;5;34m0\u001b[0m (0.00 B)\n"
      ]
     },
     "metadata": {},
     "output_type": "display_data"
    }
   ],
   "source": [
    "sequential_model_1.summary()"
   ]
  },
  {
   "cell_type": "code",
   "execution_count": 26,
   "id": "177ee8a2-9868-4a8e-9d0e-6c5975d28ee5",
   "metadata": {},
   "outputs": [
    {
     "data": {
      "text/html": [
       "<pre style=\"white-space:pre;overflow-x:auto;line-height:normal;font-family:Menlo,'DejaVu Sans Mono',consolas,'Courier New',monospace\"><span style=\"font-weight: bold\">Model: \"sequential_1\"</span>\n",
       "</pre>\n"
      ],
      "text/plain": [
       "\u001b[1mModel: \"sequential_1\"\u001b[0m\n"
      ]
     },
     "metadata": {},
     "output_type": "display_data"
    },
    {
     "data": {
      "text/html": [
       "<pre style=\"white-space:pre;overflow-x:auto;line-height:normal;font-family:Menlo,'DejaVu Sans Mono',consolas,'Courier New',monospace\">┏━━━━━━━━━━━━━━━━━━━━━━━━━━━━━━━━━┳━━━━━━━━━━━━━━━━━━━━━━━━┳━━━━━━━━━━━━━━━┓\n",
       "┃<span style=\"font-weight: bold\"> Layer (type)                    </span>┃<span style=\"font-weight: bold\"> Output Shape           </span>┃<span style=\"font-weight: bold\">       Param # </span>┃\n",
       "┡━━━━━━━━━━━━━━━━━━━━━━━━━━━━━━━━━╇━━━━━━━━━━━━━━━━━━━━━━━━╇━━━━━━━━━━━━━━━┩\n",
       "│ dense_3 (<span style=\"color: #0087ff; text-decoration-color: #0087ff\">Dense</span>)                 │ (<span style=\"color: #00d7ff; text-decoration-color: #00d7ff\">None</span>, <span style=\"color: #00af00; text-decoration-color: #00af00\">10</span>)             │           <span style=\"color: #00af00; text-decoration-color: #00af00\">650</span> │\n",
       "└─────────────────────────────────┴────────────────────────┴───────────────┘\n",
       "</pre>\n"
      ],
      "text/plain": [
       "┏━━━━━━━━━━━━━━━━━━━━━━━━━━━━━━━━━┳━━━━━━━━━━━━━━━━━━━━━━━━┳━━━━━━━━━━━━━━━┓\n",
       "┃\u001b[1m \u001b[0m\u001b[1mLayer (type)                   \u001b[0m\u001b[1m \u001b[0m┃\u001b[1m \u001b[0m\u001b[1mOutput Shape          \u001b[0m\u001b[1m \u001b[0m┃\u001b[1m \u001b[0m\u001b[1m      Param #\u001b[0m\u001b[1m \u001b[0m┃\n",
       "┡━━━━━━━━━━━━━━━━━━━━━━━━━━━━━━━━━╇━━━━━━━━━━━━━━━━━━━━━━━━╇━━━━━━━━━━━━━━━┩\n",
       "│ dense_3 (\u001b[38;5;33mDense\u001b[0m)                 │ (\u001b[38;5;45mNone\u001b[0m, \u001b[38;5;34m10\u001b[0m)             │           \u001b[38;5;34m650\u001b[0m │\n",
       "└─────────────────────────────────┴────────────────────────┴───────────────┘\n"
      ]
     },
     "metadata": {},
     "output_type": "display_data"
    },
    {
     "data": {
      "text/html": [
       "<pre style=\"white-space:pre;overflow-x:auto;line-height:normal;font-family:Menlo,'DejaVu Sans Mono',consolas,'Courier New',monospace\"><span style=\"font-weight: bold\"> Total params: </span><span style=\"color: #00af00; text-decoration-color: #00af00\">650</span> (2.54 KB)\n",
       "</pre>\n"
      ],
      "text/plain": [
       "\u001b[1m Total params: \u001b[0m\u001b[38;5;34m650\u001b[0m (2.54 KB)\n"
      ]
     },
     "metadata": {},
     "output_type": "display_data"
    },
    {
     "data": {
      "text/html": [
       "<pre style=\"white-space:pre;overflow-x:auto;line-height:normal;font-family:Menlo,'DejaVu Sans Mono',consolas,'Courier New',monospace\"><span style=\"font-weight: bold\"> Trainable params: </span><span style=\"color: #00af00; text-decoration-color: #00af00\">650</span> (2.54 KB)\n",
       "</pre>\n"
      ],
      "text/plain": [
       "\u001b[1m Trainable params: \u001b[0m\u001b[38;5;34m650\u001b[0m (2.54 KB)\n"
      ]
     },
     "metadata": {},
     "output_type": "display_data"
    },
    {
     "data": {
      "text/html": [
       "<pre style=\"white-space:pre;overflow-x:auto;line-height:normal;font-family:Menlo,'DejaVu Sans Mono',consolas,'Courier New',monospace\"><span style=\"font-weight: bold\"> Non-trainable params: </span><span style=\"color: #00af00; text-decoration-color: #00af00\">0</span> (0.00 B)\n",
       "</pre>\n"
      ],
      "text/plain": [
       "\u001b[1m Non-trainable params: \u001b[0m\u001b[38;5;34m0\u001b[0m (0.00 B)\n"
      ]
     },
     "metadata": {},
     "output_type": "display_data"
    }
   ],
   "source": [
    "sequential_model_2.summary()"
   ]
  },
  {
   "cell_type": "code",
   "execution_count": 27,
   "id": "4c5d218d-ac06-4a85-883a-7648938d6177",
   "metadata": {},
   "outputs": [
    {
     "data": {
      "text/html": [
       "<pre style=\"white-space:pre;overflow-x:auto;line-height:normal;font-family:Menlo,'DejaVu Sans Mono',consolas,'Courier New',monospace\"><span style=\"font-weight: bold\">Model: \"my_model\"</span>\n",
       "</pre>\n"
      ],
      "text/plain": [
       "\u001b[1mModel: \"my_model\"\u001b[0m\n"
      ]
     },
     "metadata": {},
     "output_type": "display_data"
    },
    {
     "data": {
      "text/html": [
       "<pre style=\"white-space:pre;overflow-x:auto;line-height:normal;font-family:Menlo,'DejaVu Sans Mono',consolas,'Courier New',monospace\">┏━━━━━━━━━━━━━━━━━━━━━━━━━━━━━━━━━┳━━━━━━━━━━━━━━━━━━━━━━━━┳━━━━━━━━━━━━━━━┓\n",
       "┃<span style=\"font-weight: bold\"> Layer (type)                    </span>┃<span style=\"font-weight: bold\"> Output Shape           </span>┃<span style=\"font-weight: bold\">       Param # </span>┃\n",
       "┡━━━━━━━━━━━━━━━━━━━━━━━━━━━━━━━━━╇━━━━━━━━━━━━━━━━━━━━━━━━╇━━━━━━━━━━━━━━━┩\n",
       "│ dense (<span style=\"color: #0087ff; text-decoration-color: #0087ff\">Dense</span>)                   │ ?                      │   <span style=\"color: #00af00; text-decoration-color: #00af00\">0</span> (unbuilt) │\n",
       "├─────────────────────────────────┼────────────────────────┼───────────────┤\n",
       "│ dropout (<span style=\"color: #0087ff; text-decoration-color: #0087ff\">Dropout</span>)               │ ?                      │             <span style=\"color: #00af00; text-decoration-color: #00af00\">0</span> │\n",
       "├─────────────────────────────────┼────────────────────────┼───────────────┤\n",
       "│ dense_1 (<span style=\"color: #0087ff; text-decoration-color: #0087ff\">Dense</span>)                 │ ?                      │   <span style=\"color: #00af00; text-decoration-color: #00af00\">0</span> (unbuilt) │\n",
       "└─────────────────────────────────┴────────────────────────┴───────────────┘\n",
       "</pre>\n"
      ],
      "text/plain": [
       "┏━━━━━━━━━━━━━━━━━━━━━━━━━━━━━━━━━┳━━━━━━━━━━━━━━━━━━━━━━━━┳━━━━━━━━━━━━━━━┓\n",
       "┃\u001b[1m \u001b[0m\u001b[1mLayer (type)                   \u001b[0m\u001b[1m \u001b[0m┃\u001b[1m \u001b[0m\u001b[1mOutput Shape          \u001b[0m\u001b[1m \u001b[0m┃\u001b[1m \u001b[0m\u001b[1m      Param #\u001b[0m\u001b[1m \u001b[0m┃\n",
       "┡━━━━━━━━━━━━━━━━━━━━━━━━━━━━━━━━━╇━━━━━━━━━━━━━━━━━━━━━━━━╇━━━━━━━━━━━━━━━┩\n",
       "│ dense (\u001b[38;5;33mDense\u001b[0m)                   │ ?                      │   \u001b[38;5;34m0\u001b[0m (unbuilt) │\n",
       "├─────────────────────────────────┼────────────────────────┼───────────────┤\n",
       "│ dropout (\u001b[38;5;33mDropout\u001b[0m)               │ ?                      │             \u001b[38;5;34m0\u001b[0m │\n",
       "├─────────────────────────────────┼────────────────────────┼───────────────┤\n",
       "│ dense_1 (\u001b[38;5;33mDense\u001b[0m)                 │ ?                      │   \u001b[38;5;34m0\u001b[0m (unbuilt) │\n",
       "└─────────────────────────────────┴────────────────────────┴───────────────┘\n"
      ]
     },
     "metadata": {},
     "output_type": "display_data"
    },
    {
     "data": {
      "text/html": [
       "<pre style=\"white-space:pre;overflow-x:auto;line-height:normal;font-family:Menlo,'DejaVu Sans Mono',consolas,'Courier New',monospace\"><span style=\"font-weight: bold\"> Total params: </span><span style=\"color: #00af00; text-decoration-color: #00af00\">0</span> (0.00 B)\n",
       "</pre>\n"
      ],
      "text/plain": [
       "\u001b[1m Total params: \u001b[0m\u001b[38;5;34m0\u001b[0m (0.00 B)\n"
      ]
     },
     "metadata": {},
     "output_type": "display_data"
    },
    {
     "data": {
      "text/html": [
       "<pre style=\"white-space:pre;overflow-x:auto;line-height:normal;font-family:Menlo,'DejaVu Sans Mono',consolas,'Courier New',monospace\"><span style=\"font-weight: bold\"> Trainable params: </span><span style=\"color: #00af00; text-decoration-color: #00af00\">0</span> (0.00 B)\n",
       "</pre>\n"
      ],
      "text/plain": [
       "\u001b[1m Trainable params: \u001b[0m\u001b[38;5;34m0\u001b[0m (0.00 B)\n"
      ]
     },
     "metadata": {},
     "output_type": "display_data"
    },
    {
     "data": {
      "text/html": [
       "<pre style=\"white-space:pre;overflow-x:auto;line-height:normal;font-family:Menlo,'DejaVu Sans Mono',consolas,'Courier New',monospace\"><span style=\"font-weight: bold\"> Non-trainable params: </span><span style=\"color: #00af00; text-decoration-color: #00af00\">0</span> (0.00 B)\n",
       "</pre>\n"
      ],
      "text/plain": [
       "\u001b[1m Non-trainable params: \u001b[0m\u001b[38;5;34m0\u001b[0m (0.00 B)\n"
      ]
     },
     "metadata": {},
     "output_type": "display_data"
    }
   ],
   "source": [
    "mymodel.summary()"
   ]
  },
  {
   "cell_type": "code",
   "execution_count": 28,
   "id": "c6ce22e6-2b06-4cdd-8eec-42d534f95555",
   "metadata": {},
   "outputs": [
    {
     "data": {
      "text/html": [
       "<pre style=\"white-space:pre;overflow-x:auto;line-height:normal;font-family:Menlo,'DejaVu Sans Mono',consolas,'Courier New',monospace\"><span style=\"font-weight: bold\">Model: \"functional_2\"</span>\n",
       "</pre>\n"
      ],
      "text/plain": [
       "\u001b[1mModel: \"functional_2\"\u001b[0m\n"
      ]
     },
     "metadata": {},
     "output_type": "display_data"
    },
    {
     "data": {
      "text/html": [
       "<pre style=\"white-space:pre;overflow-x:auto;line-height:normal;font-family:Menlo,'DejaVu Sans Mono',consolas,'Courier New',monospace\">┏━━━━━━━━━━━━━━━━━━━━━━━━━━━━━━━━━┳━━━━━━━━━━━━━━━━━━━━━━━━┳━━━━━━━━━━━━━━━┓\n",
       "┃<span style=\"font-weight: bold\"> Layer (type)                    </span>┃<span style=\"font-weight: bold\"> Output Shape           </span>┃<span style=\"font-weight: bold\">       Param # </span>┃\n",
       "┡━━━━━━━━━━━━━━━━━━━━━━━━━━━━━━━━━╇━━━━━━━━━━━━━━━━━━━━━━━━╇━━━━━━━━━━━━━━━┩\n",
       "│ input_layer_2 (<span style=\"color: #0087ff; text-decoration-color: #0087ff\">InputLayer</span>)      │ (<span style=\"color: #00d7ff; text-decoration-color: #00d7ff\">None</span>, <span style=\"color: #00af00; text-decoration-color: #00af00\">64</span>)             │             <span style=\"color: #00af00; text-decoration-color: #00af00\">0</span> │\n",
       "├─────────────────────────────────┼────────────────────────┼───────────────┤\n",
       "│ dense_4 (<span style=\"color: #0087ff; text-decoration-color: #0087ff\">Dense</span>)                 │ (<span style=\"color: #00d7ff; text-decoration-color: #00d7ff\">None</span>, <span style=\"color: #00af00; text-decoration-color: #00af00\">30</span>)             │         <span style=\"color: #00af00; text-decoration-color: #00af00\">1,950</span> │\n",
       "├─────────────────────────────────┼────────────────────────┼───────────────┤\n",
       "│ dense_5 (<span style=\"color: #0087ff; text-decoration-color: #0087ff\">Dense</span>)                 │ (<span style=\"color: #00d7ff; text-decoration-color: #00d7ff\">None</span>, <span style=\"color: #00af00; text-decoration-color: #00af00\">10</span>)             │           <span style=\"color: #00af00; text-decoration-color: #00af00\">310</span> │\n",
       "└─────────────────────────────────┴────────────────────────┴───────────────┘\n",
       "</pre>\n"
      ],
      "text/plain": [
       "┏━━━━━━━━━━━━━━━━━━━━━━━━━━━━━━━━━┳━━━━━━━━━━━━━━━━━━━━━━━━┳━━━━━━━━━━━━━━━┓\n",
       "┃\u001b[1m \u001b[0m\u001b[1mLayer (type)                   \u001b[0m\u001b[1m \u001b[0m┃\u001b[1m \u001b[0m\u001b[1mOutput Shape          \u001b[0m\u001b[1m \u001b[0m┃\u001b[1m \u001b[0m\u001b[1m      Param #\u001b[0m\u001b[1m \u001b[0m┃\n",
       "┡━━━━━━━━━━━━━━━━━━━━━━━━━━━━━━━━━╇━━━━━━━━━━━━━━━━━━━━━━━━╇━━━━━━━━━━━━━━━┩\n",
       "│ input_layer_2 (\u001b[38;5;33mInputLayer\u001b[0m)      │ (\u001b[38;5;45mNone\u001b[0m, \u001b[38;5;34m64\u001b[0m)             │             \u001b[38;5;34m0\u001b[0m │\n",
       "├─────────────────────────────────┼────────────────────────┼───────────────┤\n",
       "│ dense_4 (\u001b[38;5;33mDense\u001b[0m)                 │ (\u001b[38;5;45mNone\u001b[0m, \u001b[38;5;34m30\u001b[0m)             │         \u001b[38;5;34m1,950\u001b[0m │\n",
       "├─────────────────────────────────┼────────────────────────┼───────────────┤\n",
       "│ dense_5 (\u001b[38;5;33mDense\u001b[0m)                 │ (\u001b[38;5;45mNone\u001b[0m, \u001b[38;5;34m10\u001b[0m)             │           \u001b[38;5;34m310\u001b[0m │\n",
       "└─────────────────────────────────┴────────────────────────┴───────────────┘\n"
      ]
     },
     "metadata": {},
     "output_type": "display_data"
    },
    {
     "data": {
      "text/html": [
       "<pre style=\"white-space:pre;overflow-x:auto;line-height:normal;font-family:Menlo,'DejaVu Sans Mono',consolas,'Courier New',monospace\"><span style=\"font-weight: bold\"> Total params: </span><span style=\"color: #00af00; text-decoration-color: #00af00\">2,260</span> (8.83 KB)\n",
       "</pre>\n"
      ],
      "text/plain": [
       "\u001b[1m Total params: \u001b[0m\u001b[38;5;34m2,260\u001b[0m (8.83 KB)\n"
      ]
     },
     "metadata": {},
     "output_type": "display_data"
    },
    {
     "data": {
      "text/html": [
       "<pre style=\"white-space:pre;overflow-x:auto;line-height:normal;font-family:Menlo,'DejaVu Sans Mono',consolas,'Courier New',monospace\"><span style=\"font-weight: bold\"> Trainable params: </span><span style=\"color: #00af00; text-decoration-color: #00af00\">2,260</span> (8.83 KB)\n",
       "</pre>\n"
      ],
      "text/plain": [
       "\u001b[1m Trainable params: \u001b[0m\u001b[38;5;34m2,260\u001b[0m (8.83 KB)\n"
      ]
     },
     "metadata": {},
     "output_type": "display_data"
    },
    {
     "data": {
      "text/html": [
       "<pre style=\"white-space:pre;overflow-x:auto;line-height:normal;font-family:Menlo,'DejaVu Sans Mono',consolas,'Courier New',monospace\"><span style=\"font-weight: bold\"> Non-trainable params: </span><span style=\"color: #00af00; text-decoration-color: #00af00\">0</span> (0.00 B)\n",
       "</pre>\n"
      ],
      "text/plain": [
       "\u001b[1m Non-trainable params: \u001b[0m\u001b[38;5;34m0\u001b[0m (0.00 B)\n"
      ]
     },
     "metadata": {},
     "output_type": "display_data"
    }
   ],
   "source": [
    "functional_model.summary()"
   ]
  },
  {
   "cell_type": "markdown",
   "id": "be810f36-c404-42c3-829c-33790da54f70",
   "metadata": {},
   "source": [
    "### Now we need to learn how to save model, even the model haven't been trained"
   ]
  },
  {
   "cell_type": "markdown",
   "id": "932d18b5-c5a6-41b9-a4da-d8edbd74ed71",
   "metadata": {},
   "source": [
    "We can use `tensorflow.saved_models.save()` to save the model, also can use `tensorflow.saved_models.load()` to load the saved model\n",
    "\n",
    "But, now we are using keras model, we can use more convineient way. Just simply use `<keras_model_objective>.save()` then `tensorflow.keras.models.load_model()`"
   ]
  },
  {
   "cell_type": "code",
   "execution_count": null,
   "id": "bb7e0f0b-7f10-4096-b8a7-b4c2225984a7",
   "metadata": {},
   "outputs": [],
   "source": [
    "# Haven't add the path because there's no trained parameter inside\n",
    "\n",
    "mymodel.save(filepath=\" \")\n",
    "sequential_model_1.save(filepath=\" \")\n",
    "sequential_model_2.save(filepath=\" \")"
   ]
  },
  {
   "cell_type": "code",
   "execution_count": null,
   "id": "b5cdff1a-c04d-46b8-8d24-08d5f7539b44",
   "metadata": {},
   "outputs": [],
   "source": [
    "# Haven't add the path because there's no trained parameter inside\n",
    "\n",
    "loaded_model = tf.keras.models.load_model(\"file_path\")"
   ]
  },
  {
   "cell_type": "markdown",
   "id": "31496ee4-d2b3-4e00-9b00-615e5550bd78",
   "metadata": {},
   "source": [
    " ### Now let's learn how to training\n",
    "\n",
    "In TensorFlow, if we used tensorflow.keras to create model, (Functional API, Sequential, tf.keras.Moudle), we can use `compile()` to specify the loss function, optimizer for traning, after that, we use `fit()` for training the model, then is the `evaluate()`, used  for testing the performance of model"
   ]
  },
  {
   "cell_type": "markdown",
   "id": "4692d92b-f3b4-4660-9008-75baf88834d9",
   "metadata": {},
   "source": [
    "Please noticed the `compile()` can specify the metrics if you want additional evaluate metrics. All the metics stored in the package `tensorflow.keras.metrics`, here we use Accurancy. The metrics we used will be metrics class, if we use method, we meed to add parameters."
   ]
  },
  {
   "cell_type": "markdown",
   "id": "551c21d4-da44-448f-b260-53aec1441500",
   "metadata": {},
   "source": [
    "Please note that the compile need specify the metrics we want to use to evaluate the performance during traing, aslo this parameter will be feed to `evaluate()` as the metrics we focusing in model testing, and the **`evaluate()` will not only focusing the metrics of loss, which will be default focusing while traning and testing, but also be focusing in metrics we specified in `compile()`**"
   ]
  },
  {
   "cell_type": "code",
   "execution_count": 15,
   "id": "d45bb455-686d-4496-9b6d-bdcec59e4f68",
   "metadata": {},
   "outputs": [],
   "source": [
    "mymodel.compile(\n",
    "    # Define loss function\n",
    "    loss=tf.keras.losses.categorical_generalized_cross_entropy,\n",
    "    \n",
    "    # Define optimize function\n",
    "    optimizer=tf.keras.optimizers.Adam(learning_rate=0.001),\n",
    "\n",
    "    # Close the dynamic map, while increase the performance in traning, but we can make it True while we need debugging\n",
    "    run_eagerly=False,\n",
    "\n",
    "    # Add the matrics we want concern, notice the loss is default output, don't add it in the metircs\n",
    "    metrics=[tf.keras.metrics.Accuracy()]\n",
    ")"
   ]
  },
  {
   "cell_type": "code",
   "execution_count": null,
   "id": "72e94393-a1bc-4935-833c-3509a9c77a9d",
   "metadata": {},
   "outputs": [],
   "source": [
    "# Use data and labels for training the model, need to add train data, train label, epochs\n",
    "\n",
    "mymodel.fit(x=x_train, y=y_train, epochs=100, batch_size=32)\n",
    "\n",
    "mymodel.evaluate(x=x_test, y=y_test)"
   ]
  },
  {
   "cell_type": "markdown",
   "id": "6e63ed57-4572-4c8a-a7af-dbacf36756c2",
   "metadata": {},
   "source": [
    "The code upstairs is the basic trainning of the tensorflow.keras, However we can add some special actions in the code, such as the early stop"
   ]
  },
  {
   "cell_type": "markdown",
   "id": "83bafb16-4a1d-4082-be3a-e4154abd549e",
   "metadata": {},
   "source": [
    "Early stop: While training the model, if we can't get better performance in N epochs, we stop trainning, we can choose if we want to save the best parameter of the model.\n",
    "\n",
    "The **additional action is defined in the `callbacks` parameter of `fit()` method, the callbacks only receive list of tensorflow.keras.callbacks.Callbacks objects**, **the dictionary of these addtional action we can choose is in `tensorflow.keras.callbacks`**"
   ]
  },
  {
   "cell_type": "code",
   "execution_count": 4,
   "id": "09e7a2ea-76a5-4b62-9ce9-53f3e50600d9",
   "metadata": {},
   "outputs": [],
   "source": [
    "from tensorflow.keras.callbacks import EarlyStopping"
   ]
  },
  {
   "cell_type": "code",
   "execution_count": 12,
   "id": "a64a0c20-9ae3-45fe-b679-a7fd9c4dc393",
   "metadata": {},
   "outputs": [],
   "source": [
    "# try the early stop, but first we need to define the early stop class\n",
    "\n",
    "early_stop = EarlyStopping(\n",
    "    # what parameter we want to monitoring, usually val_loss\n",
    "    monitor=\"val_loss\",\n",
    "\n",
    "    # the time we wait if the montor parameter won't be better\n",
    "    patience=3,\n",
    "\n",
    "    # Set to true to set the best performance parameter we get while trainning\n",
    "    restore_best_weights=True\n",
    ")"
   ]
  },
  {
   "cell_type": "code",
   "execution_count": null,
   "id": "f76c8015-2e6f-43ab-892b-5dc0bf1860ec",
   "metadata": {},
   "outputs": [],
   "source": [
    "mymodel.fit(\n",
    "    x=x_train,\n",
    "    \n",
    "    y=y_train,\n",
    "    \n",
    "    epochs=100,\n",
    "    \n",
    "    batch_size=32,\n",
    "\n",
    "    # The callbacks should be stored in a list and transfer to callbacks parameter in fit() method\n",
    "    callbacks=[early_stop]\n",
    ")"
   ]
  }
 ],
 "metadata": {
  "kernelspec": {
   "display_name": "Python 3 (ipykernel)",
   "language": "python",
   "name": "python3"
  },
  "language_info": {
   "codemirror_mode": {
    "name": "ipython",
    "version": 3
   },
   "file_extension": ".py",
   "mimetype": "text/x-python",
   "name": "python",
   "nbconvert_exporter": "python",
   "pygments_lexer": "ipython3",
   "version": "3.11.2"
  }
 },
 "nbformat": 4,
 "nbformat_minor": 5
}
